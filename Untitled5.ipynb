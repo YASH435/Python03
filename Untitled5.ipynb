{
  "nbformat": 4,
  "nbformat_minor": 0,
  "metadata": {
    "colab": {
      "name": "Untitled5.ipynb",
      "provenance": [],
      "collapsed_sections": []
    },
    "kernelspec": {
      "name": "python3",
      "display_name": "Python 3"
    },
    "language_info": {
      "name": "python"
    }
  },
  "cells": [
    {
      "cell_type": "code",
      "metadata": {
        "id": "s_k0sOzjKlDB"
      },
      "source": [
        "# 1 Write a python program to convert a string to lower case"
      ],
      "execution_count": null,
      "outputs": []
    },
    {
      "cell_type": "code",
      "metadata": {
        "id": "SeO7OK_xKtpb"
      },
      "source": [
        "brother=\"UJWAL RAVIKANT DESHMUKH\"\n"
      ],
      "execution_count": null,
      "outputs": []
    },
    {
      "cell_type": "code",
      "metadata": {
        "colab": {
          "base_uri": "https://localhost:8080/",
          "height": 35
        },
        "id": "hg9uE0e2NmU4",
        "outputId": "7d4bd6af-543c-41f2-8be7-469cb802f246"
      },
      "source": [
        "brother.lower()"
      ],
      "execution_count": null,
      "outputs": [
        {
          "output_type": "execute_result",
          "data": {
            "application/vnd.google.colaboratory.intrinsic+json": {
              "type": "string"
            },
            "text/plain": [
              "'ujwal ravikant deshmukh'"
            ]
          },
          "metadata": {
            "tags": []
          },
          "execution_count": 61
        }
      ]
    },
    {
      "cell_type": "code",
      "metadata": {
        "id": "4NqUrmc2NuKg"
      },
      "source": [
        "# 2 Write a python program to convert only odd indexed characters to lower case \n"
      ],
      "execution_count": null,
      "outputs": []
    },
    {
      "cell_type": "code",
      "metadata": {
        "id": "owO3Xq3KN4B0"
      },
      "source": [
        "x=\"PYTHON\""
      ],
      "execution_count": null,
      "outputs": []
    },
    {
      "cell_type": "code",
      "metadata": {
        "id": "U-hEXyv2mi-s"
      },
      "source": [
        "y=x.replace(\"PYTHON\",\"PyThOn\")\n"
      ],
      "execution_count": null,
      "outputs": []
    },
    {
      "cell_type": "code",
      "metadata": {
        "colab": {
          "base_uri": "https://localhost:8080/"
        },
        "id": "5iQB_RzPmkSC",
        "outputId": "32eb6348-0bf1-4c3e-9d92-28420147acd7"
      },
      "source": [
        "print(y)"
      ],
      "execution_count": null,
      "outputs": [
        {
          "output_type": "stream",
          "text": [
            "PyThOn\n"
          ],
          "name": "stdout"
        }
      ]
    },
    {
      "cell_type": "code",
      "metadata": {
        "id": "LcVBYdJMmkEr"
      },
      "source": [
        "# 3 Write a python program to convert only even indexed characters to lower case"
      ],
      "execution_count": null,
      "outputs": []
    },
    {
      "cell_type": "code",
      "metadata": {
        "id": "4uA-KMZxmj3h"
      },
      "source": [
        "x=\"PYTHON\""
      ],
      "execution_count": null,
      "outputs": []
    },
    {
      "cell_type": "code",
      "metadata": {
        "id": "VC2EvuxJoPp8"
      },
      "source": [
        "y=x.replace(\"PYTHON\",\"pYtHoN\")"
      ],
      "execution_count": null,
      "outputs": []
    },
    {
      "cell_type": "code",
      "metadata": {
        "colab": {
          "base_uri": "https://localhost:8080/"
        },
        "id": "fhjkZNRUoPg6",
        "outputId": "2e319f85-e565-4611-cb2a-1b43a002d087"
      },
      "source": [
        "print(y)"
      ],
      "execution_count": null,
      "outputs": [
        {
          "output_type": "stream",
          "text": [
            "pYtHoN\n"
          ],
          "name": "stdout"
        }
      ]
    },
    {
      "cell_type": "code",
      "metadata": {
        "id": "2MaPxSgnoPT8"
      },
      "source": [
        "# 4 Write a python program to convert only odd indexed character to upper case"
      ],
      "execution_count": null,
      "outputs": []
    },
    {
      "cell_type": "code",
      "metadata": {
        "id": "7-uZter4onxo"
      },
      "source": [
        "x=\"python\""
      ],
      "execution_count": null,
      "outputs": []
    },
    {
      "cell_type": "code",
      "metadata": {
        "id": "zaZ37ivQonra"
      },
      "source": [
        "y=x.replace(\"python\",\"pYtHoN\")"
      ],
      "execution_count": null,
      "outputs": []
    },
    {
      "cell_type": "code",
      "metadata": {
        "colab": {
          "base_uri": "https://localhost:8080/"
        },
        "id": "bvbbPFkVonjh",
        "outputId": "82b7590a-66f9-43a6-c134-4d2ba605eaa7"
      },
      "source": [
        "print(y)"
      ],
      "execution_count": null,
      "outputs": [
        {
          "output_type": "stream",
          "text": [
            "pYtHoN\n"
          ],
          "name": "stdout"
        }
      ]
    },
    {
      "cell_type": "code",
      "metadata": {
        "id": "zxZFrem2onWy"
      },
      "source": [
        "# 5 Write a python program to convert only even indexed character to upper case"
      ],
      "execution_count": null,
      "outputs": []
    },
    {
      "cell_type": "code",
      "metadata": {
        "id": "CGUirNV-pDZo"
      },
      "source": [
        "x=\"python\"\n"
      ],
      "execution_count": null,
      "outputs": []
    },
    {
      "cell_type": "code",
      "metadata": {
        "id": "tPAXGeg1pDRq"
      },
      "source": [
        "y=x.replace(\"python\",\"PyThOn\")"
      ],
      "execution_count": null,
      "outputs": []
    },
    {
      "cell_type": "code",
      "metadata": {
        "colab": {
          "base_uri": "https://localhost:8080/",
          "height": 35
        },
        "id": "Z7d-piTgpDIz",
        "outputId": "cda75c82-e891-4948-b541-b992e750a7d2"
      },
      "source": [
        "y"
      ],
      "execution_count": null,
      "outputs": [
        {
          "output_type": "execute_result",
          "data": {
            "application/vnd.google.colaboratory.intrinsic+json": {
              "type": "string"
            },
            "text/plain": [
              "'PyThOn'"
            ]
          },
          "metadata": {
            "tags": []
          },
          "execution_count": 77
        }
      ]
    },
    {
      "cell_type": "code",
      "metadata": {
        "id": "-bLn5pDCODJX"
      },
      "source": [
        "# 6 Write a python program where you have different variable which contains your name ,sex,age,\n",
        "#phone no ,fathers name and mothers name.And by using this variable create a\n"
      ],
      "execution_count": null,
      "outputs": []
    },
    {
      "cell_type": "code",
      "metadata": {
        "colab": {
          "base_uri": "https://localhost:8080/"
        },
        "id": "PE77J9Tk8k9r",
        "outputId": "cd802f68-a61a-45b8-e921-c0faa684d3a3"
      },
      "source": [
        "name=input(\"My name is:\")\n",
        "sex=input(\"Gender:\")\n",
        "age=input(\"My age is:\")\n",
        "phone_no=input(\"my phone no. is:\")\n",
        "fathers_name=input(\"My father name is:\")\n",
        "mothers_name=input(\"My mother name is:\")\n",
        "biodata=name+sex+age+phone_no+fathers_name+mothers_name\n",
        "\n"
      ],
      "execution_count": null,
      "outputs": [
        {
          "output_type": "stream",
          "text": [
            "My name is:Yash\n",
            "Gender:Male\n",
            "My age is:16\n",
            "my phone no. is:9283847208\n",
            "My father name is:Ravikant\n",
            "My mother name is:Sushama\n"
          ],
          "name": "stdout"
        }
      ]
    },
    {
      "cell_type": "code",
      "metadata": {
        "id": "2qPzdqNb8mGM"
      },
      "source": [
        "# 7 Write a  python program to count how many times “@” occurred"
      ],
      "execution_count": null,
      "outputs": []
    },
    {
      "cell_type": "code",
      "metadata": {
        "id": "9ZzjcGJI9UcM"
      },
      "source": [
        "Mail_id= \"yashdeshmukh345@gmail.com @ ujwal234@gmail.com @2@22\""
      ],
      "execution_count": null,
      "outputs": []
    },
    {
      "cell_type": "code",
      "metadata": {
        "colab": {
          "base_uri": "https://localhost:8080/"
        },
        "id": "22g_pkuk9pfY",
        "outputId": "5d1350cb-cffb-4012-938a-c9c584e3ae75"
      },
      "source": [
        "Mail_id.count(\"@\")"
      ],
      "execution_count": null,
      "outputs": [
        {
          "output_type": "execute_result",
          "data": {
            "text/plain": [
              "5"
            ]
          },
          "metadata": {
            "tags": []
          },
          "execution_count": 97
        }
      ]
    },
    {
      "cell_type": "code",
      "metadata": {
        "id": "kltlrBYy9uhQ"
      },
      "source": [
        "# 8 Write a python program to get only names from the string "
      ],
      "execution_count": null,
      "outputs": []
    },
    {
      "cell_type": "code",
      "metadata": {
        "id": "GrEpRQQ796ps"
      },
      "source": [
        "names=\"name1.@gmail.com,name2.@gmail.com,name3.@gmail.com\""
      ],
      "execution_count": null,
      "outputs": []
    },
    {
      "cell_type": "code",
      "metadata": {
        "colab": {
          "base_uri": "https://localhost:8080/",
          "height": 35
        },
        "id": "9bsopN_0-HSw",
        "outputId": "871ba636-3898-47dd-ec2a-6c10326d9fac"
      },
      "source": [
        "names.replace(\".@gmail.com\",\"\")"
      ],
      "execution_count": null,
      "outputs": [
        {
          "output_type": "execute_result",
          "data": {
            "application/vnd.google.colaboratory.intrinsic+json": {
              "type": "string"
            },
            "text/plain": [
              "'name1,name2,name3'"
            ]
          },
          "metadata": {
            "tags": []
          },
          "execution_count": 103
        }
      ]
    },
    {
      "cell_type": "code",
      "metadata": {
        "id": "bo5PWvIT-fQv"
      },
      "source": [
        "# 9 Given a string of odd length greater that 9, return a new string made of the middle three characters of a given String"
      ],
      "execution_count": null,
      "outputs": []
    },
    {
      "cell_type": "code",
      "metadata": {
        "id": "7d_0G5sA-3mL"
      },
      "source": [
        "odd_string=\"heisagoodprogrammer\""
      ],
      "execution_count": null,
      "outputs": []
    },
    {
      "cell_type": "code",
      "metadata": {
        "id": "6QJGW-gmCK9i"
      },
      "source": [
        "output=odd_string[8:11]"
      ],
      "execution_count": null,
      "outputs": []
    },
    {
      "cell_type": "code",
      "metadata": {
        "colab": {
          "base_uri": "https://localhost:8080/"
        },
        "id": "yDXgDzmPCc9k",
        "outputId": "e487be42-85d2-4d35-ae0f-be30466ab8a4"
      },
      "source": [
        "print(output)"
      ],
      "execution_count": null,
      "outputs": [
        {
          "output_type": "stream",
          "text": [
            "dpr\n"
          ],
          "name": "stdout"
        }
      ]
    },
    {
      "cell_type": "code",
      "metadata": {
        "id": "lCu1Q4UHER1S"
      },
      "source": [
        "# 10 Write a python program to insert a 2 string in the middle of 1 string"
      ],
      "execution_count": null,
      "outputs": []
    },
    {
      "cell_type": "code",
      "metadata": {
        "id": "-aT1k87CERlp"
      },
      "source": [
        "string_1=\"Sanket Shubham\""
      ],
      "execution_count": 7,
      "outputs": []
    },
    {
      "cell_type": "code",
      "metadata": {
        "id": "gywj7fmZE_HP"
      },
      "source": [
        "string_2=\"Yash\""
      ],
      "execution_count": 8,
      "outputs": []
    },
    {
      "cell_type": "code",
      "metadata": {
        "id": "0Znus9moE-z4"
      },
      "source": [
        "x=string_1[:7]\n",
        "y=string_1[6:]\n",
        "whole_string=x+string_2+y\n"
      ],
      "execution_count": 20,
      "outputs": []
    },
    {
      "cell_type": "code",
      "metadata": {
        "id": "wKu7MPlhE-qg",
        "colab": {
          "base_uri": "https://localhost:8080/",
          "height": 35
        },
        "outputId": "b6c5b95a-8551-4bec-a1f6-3209a743f233"
      },
      "source": [
        "whole_string"
      ],
      "execution_count": 21,
      "outputs": [
        {
          "output_type": "execute_result",
          "data": {
            "application/vnd.google.colaboratory.intrinsic+json": {
              "type": "string"
            },
            "text/plain": [
              "'Sanket Yash Shubham'"
            ]
          },
          "metadata": {
            "tags": []
          },
          "execution_count": 21
        }
      ]
    },
    {
      "cell_type": "code",
      "metadata": {
        "id": "WPK_3cc5ClTV"
      },
      "source": [
        "# 11 Write a program to remove vowels from the entire alphabets "
      ],
      "execution_count": null,
      "outputs": []
    },
    {
      "cell_type": "code",
      "metadata": {
        "id": "fzwbhWEnDneO"
      },
      "source": [
        "alpha=\"abcdefghijklmnopqrstuvwxyz\""
      ],
      "execution_count": null,
      "outputs": []
    },
    {
      "cell_type": "code",
      "metadata": {
        "id": "JaWff1trDrkg"
      },
      "source": [
        "a=alpha.replace(\"a\",\"\")"
      ],
      "execution_count": null,
      "outputs": []
    },
    {
      "cell_type": "code",
      "metadata": {
        "id": "Nu5-u2qPDrbJ"
      },
      "source": [
        "e=a.replace(\"e\",\"\")"
      ],
      "execution_count": null,
      "outputs": []
    },
    {
      "cell_type": "code",
      "metadata": {
        "id": "9tJViTQSDoTG"
      },
      "source": [
        "i=e.replace(\"i\",\"\")"
      ],
      "execution_count": null,
      "outputs": []
    },
    {
      "cell_type": "code",
      "metadata": {
        "id": "nRLzyvfzD3nK"
      },
      "source": [
        "o=i.replace(\"o\",\"\")"
      ],
      "execution_count": null,
      "outputs": []
    },
    {
      "cell_type": "code",
      "metadata": {
        "id": "xJwK0fS7Ehjs"
      },
      "source": [
        "no_vowel=o.replace(\"u\",\"\")"
      ],
      "execution_count": null,
      "outputs": []
    },
    {
      "cell_type": "code",
      "metadata": {
        "colab": {
          "base_uri": "https://localhost:8080/"
        },
        "id": "riexKu8bEqKl",
        "outputId": "3b6acc73-31bf-47a4-debb-3847ecf2c899"
      },
      "source": [
        "print(no_vowel)"
      ],
      "execution_count": null,
      "outputs": [
        {
          "output_type": "stream",
          "text": [
            "bcdfghjklmnpqrstvwxyz\n"
          ],
          "name": "stdout"
        }
      ]
    },
    {
      "cell_type": "code",
      "metadata": {
        "id": "fQjb6EreEsZo"
      },
      "source": [
        ""
      ],
      "execution_count": null,
      "outputs": []
    }
  ]
}